{
 "cells": [
  {
   "cell_type": "code",
   "execution_count": 1,
   "metadata": {
    "colab": {
     "base_uri": "https://localhost:8080/"
    },
    "executionInfo": {
     "elapsed": 3071,
     "status": "ok",
     "timestamp": 1736416607909,
     "user": {
      "displayName": "Renan Le Blé",
      "userId": "01358649792202031598"
     },
     "user_tz": -60
    },
    "id": "xyilWvt8NMKY",
    "jupyter": {
     "source_hidden": true
    },
    "outputId": "6183dce8-d29c-4516-b527-98588ea5cc39"
   },
   "outputs": [],
   "source": [
    "import numpy as np\n",
    "import pandas as pd\n",
    "import matplotlib.pyplot as plt\n",
    "%matplotlib inline\n",
    "import seaborn as sns\n",
    "\n",
    "#sns.set() # to change theme\n",
    "\n",
    "#from google.colab import drive\n",
    "#drive.mount('/content/drive')"
   ]
  },
  {
   "cell_type": "code",
   "execution_count": null,
   "metadata": {
    "executionInfo": {
     "elapsed": 180861,
     "status": "ok",
     "timestamp": 1736416788768,
     "user": {
      "displayName": "Renan Le Blé",
      "userId": "01358649792202031598"
     },
     "user_tz": -60
    },
    "id": "ONZdjinPNQtP"
   },
   "outputs": [],
   "source": [
    "activity = pd.read_excel('/Users/raphael/Documents/STENDO-activities/activity.xlsx')"
   ]
  },
  {
   "cell_type": "markdown",
   "metadata": {
    "id": "J4YG5ICUrWBI",
    "jp-MarkdownHeadingCollapsed": true
   },
   "source": [
    "# Travail en arrière plan"
   ]
  },
  {
   "cell_type": "code",
   "execution_count": null,
   "metadata": {
    "colab": {
     "base_uri": "https://localhost:8080/"
    },
    "executionInfo": {
     "elapsed": 8,
     "status": "ok",
     "timestamp": 1736416788769,
     "user": {
      "displayName": "Renan Le Blé",
      "userId": "01358649792202031598"
     },
     "user_tz": -60
    },
    "id": "XP0dGLFRNvHe",
    "jupyter": {
     "source_hidden": true
    },
    "outputId": "9c28627d-c6bb-4d59-d6ad-28895cff25d1"
   },
   "outputs": [],
   "source": [
    "print('activity shape =', activity.shape)"
   ]
  },
  {
   "cell_type": "code",
   "execution_count": null,
   "metadata": {
    "executionInfo": {
     "elapsed": 4,
     "status": "ok",
     "timestamp": 1736416788769,
     "user": {
      "displayName": "Renan Le Blé",
      "userId": "01358649792202031598"
     },
     "user_tz": -60
    },
    "id": "VCkUTwVBOcVD",
    "jupyter": {
     "source_hidden": true
    }
   },
   "outputs": [],
   "source": [
    "activity"
   ]
  },
  {
   "cell_type": "code",
   "execution_count": null,
   "metadata": {
    "colab": {
     "base_uri": "https://localhost:8080/",
     "height": 0
    },
    "executionInfo": {
     "elapsed": 299,
     "status": "ok",
     "timestamp": 1736416789064,
     "user": {
      "displayName": "Renan Le Blé",
      "userId": "01358649792202031598"
     },
     "user_tz": -60
    },
    "id": "3tJO8bFoOdvZ",
    "jupyter": {
     "source_hidden": true
    },
    "outputId": "562c2a38-f4d2-4e8a-b932-a1184d066455"
   },
   "outputs": [],
   "source": [
    "activity.isna().sum()"
   ]
  },
  {
   "cell_type": "code",
   "execution_count": null,
   "metadata": {
    "executionInfo": {
     "elapsed": 3,
     "status": "ok",
     "timestamp": 1736416789065,
     "user": {
      "displayName": "Renan Le Blé",
      "userId": "01358649792202031598"
     },
     "user_tz": -60
    },
    "id": "CgljMCWDPH_0",
    "jupyter": {
     "source_hidden": true
    }
   },
   "outputs": [],
   "source": [
    "#activity[activity['percentage_real_duration'].isna()]"
   ]
  },
  {
   "cell_type": "code",
   "execution_count": null,
   "metadata": {
    "executionInfo": {
     "elapsed": 5,
     "status": "ok",
     "timestamp": 1736416789270,
     "user": {
      "displayName": "Renan Le Blé",
      "userId": "01358649792202031598"
     },
     "user_tz": -60
    },
    "id": "ynyZLnwkVD1Z",
    "jupyter": {
     "source_hidden": true
    }
   },
   "outputs": [],
   "source": [
    "activity['percentage_real_duration'] = activity['real_duration'] / (activity['duration'] * 60) * 100"
   ]
  },
  {
   "cell_type": "code",
   "execution_count": null,
   "metadata": {
    "colab": {
     "base_uri": "https://localhost:8080/",
     "height": 0
    },
    "executionInfo": {
     "elapsed": 4,
     "status": "ok",
     "timestamp": 1736416789270,
     "user": {
      "displayName": "Renan Le Blé",
      "userId": "01358649792202031598"
     },
     "user_tz": -60
    },
    "id": "dXgWg3jSV8xn",
    "jupyter": {
     "source_hidden": true
    },
    "outputId": "b70a6ab9-ff5d-48ac-8c2c-5cc691b0e84b"
   },
   "outputs": [],
   "source": [
    "activity"
   ]
  },
  {
   "cell_type": "code",
   "execution_count": null,
   "metadata": {
    "colab": {
     "base_uri": "https://localhost:8080/",
     "height": 0
    },
    "executionInfo": {
     "elapsed": 187,
     "status": "ok",
     "timestamp": 1736416789454,
     "user": {
      "displayName": "Renan Le Blé",
      "userId": "01358649792202031598"
     },
     "user_tz": -60
    },
    "id": "g1tMylXDWAl5",
    "jupyter": {
     "source_hidden": true
    },
    "outputId": "39d91b14-6014-42f3-9ee0-87e97b5682ea"
   },
   "outputs": [],
   "source": [
    "activity.isna().sum()"
   ]
  },
  {
   "cell_type": "code",
   "execution_count": null,
   "metadata": {
    "executionInfo": {
     "elapsed": 237,
     "status": "ok",
     "timestamp": 1736416789686,
     "user": {
      "displayName": "Renan Le Blé",
      "userId": "01358649792202031598"
     },
     "user_tz": -60
    },
    "id": "p2Y_luMMWRXv",
    "jupyter": {
     "source_hidden": true
    }
   },
   "outputs": [],
   "source": [
    "activity = activity.drop(columns=['mac_address', 'name', 'care_note', 'credit_number', 'active'])"
   ]
  },
  {
   "cell_type": "code",
   "execution_count": null,
   "metadata": {
    "executionInfo": {
     "elapsed": 5,
     "status": "ok",
     "timestamp": 1736416789687,
     "user": {
      "displayName": "Renan Le Blé",
      "userId": "01358649792202031598"
     },
     "user_tz": -60
    },
    "id": "HXPIffh_bnen",
    "jupyter": {
     "source_hidden": true
    }
   },
   "outputs": [],
   "source": [
    "#activity"
   ]
  },
  {
   "cell_type": "code",
   "execution_count": null,
   "metadata": {
    "executionInfo": {
     "elapsed": 4,
     "status": "ok",
     "timestamp": 1736416789687,
     "user": {
      "displayName": "Renan Le Blé",
      "userId": "01358649792202031598"
     },
     "user_tz": -60
    },
    "id": "OKpGKhH8bpfp",
    "jupyter": {
     "source_hidden": true
    }
   },
   "outputs": [],
   "source": [
    "activity_europe = activity[(activity['ps_server'] == 'EU') & (activity['spare_type'] == 'pants')]\n",
    "#activity_europe"
   ]
  },
  {
   "cell_type": "code",
   "execution_count": null,
   "metadata": {
    "executionInfo": {
     "elapsed": 189,
     "status": "ok",
     "timestamp": 1736416789872,
     "user": {
      "displayName": "Renan Le Blé",
      "userId": "01358649792202031598"
     },
     "user_tz": -60
    },
    "id": "mMiD3d27i9jj",
    "jupyter": {
     "source_hidden": true
    }
   },
   "outputs": [],
   "source": [
    "activity_europe = activity_europe[activity_europe['full_name.1'] != 'T0362 - LETESTEUR Ludovic']\n",
    "#activity_europe"
   ]
  },
  {
   "cell_type": "code",
   "execution_count": null,
   "metadata": {
    "executionInfo": {
     "elapsed": 218,
     "status": "ok",
     "timestamp": 1736416790087,
     "user": {
      "displayName": "Renan Le Blé",
      "userId": "01358649792202031598"
     },
     "user_tz": -60
    },
    "id": "pVdsbDaJcjU3",
    "jupyter": {
     "source_hidden": true
    }
   },
   "outputs": [],
   "source": [
    "activity_asia = activity[(activity['ps_server'] == 'ASIA') & (activity['spare_type'] == 'pants')]\n",
    "#activity_asia"
   ]
  },
  {
   "cell_type": "code",
   "execution_count": null,
   "metadata": {
    "executionInfo": {
     "elapsed": 3,
     "status": "ok",
     "timestamp": 1736416790087,
     "user": {
      "displayName": "Renan Le Blé",
      "userId": "01358649792202031598"
     },
     "user_tz": -60
    },
    "id": "hodsS9kGc17x",
    "jupyter": {
     "source_hidden": true
    }
   },
   "outputs": [],
   "source": [
    "activity_europe_50 = activity_europe[activity_europe['percentage_real_duration'] >= 50]\n",
    "#activity_europe_50"
   ]
  },
  {
   "cell_type": "code",
   "execution_count": null,
   "metadata": {
    "executionInfo": {
     "elapsed": 2,
     "status": "ok",
     "timestamp": 1736416790087,
     "user": {
      "displayName": "Renan Le Blé",
      "userId": "01358649792202031598"
     },
     "user_tz": -60
    },
    "id": "IlZbPlOIeCfk",
    "jupyter": {
     "source_hidden": true
    }
   },
   "outputs": [],
   "source": [
    "activity_asia_50 = activity_asia[activity_asia['percentage_real_duration'] >= 50]\n",
    "#activity_asia_50"
   ]
  },
  {
   "cell_type": "code",
   "execution_count": null,
   "metadata": {
    "colab": {
     "base_uri": "https://localhost:8080/",
     "height": 0
    },
    "executionInfo": {
     "elapsed": 602,
     "status": "ok",
     "timestamp": 1736416790687,
     "user": {
      "displayName": "Renan Le Blé",
      "userId": "01358649792202031598"
     },
     "user_tz": -60
    },
    "id": "qeo2OHgKfDSV",
    "jupyter": {
     "source_hidden": true
    },
    "outputId": "2186f33b-462c-4bdc-e839-53a195126fd3"
   },
   "outputs": [],
   "source": [
    "activity_europe_50 = activity_europe_50.sort_values(by=['full_name.1'])\n",
    "activity_europe_50"
   ]
  },
  {
   "cell_type": "code",
   "execution_count": null,
   "metadata": {
    "colab": {
     "base_uri": "https://localhost:8080/",
     "height": 0
    },
    "executionInfo": {
     "elapsed": 8,
     "status": "ok",
     "timestamp": 1736416790687,
     "user": {
      "displayName": "Renan Le Blé",
      "userId": "01358649792202031598"
     },
     "user_tz": -60
    },
    "id": "pKKAFOdFg3FO",
    "jupyter": {
     "source_hidden": true
    },
    "outputId": "03e4fdd6-5657-4892-c6ff-57a13bbed6d9"
   },
   "outputs": [],
   "source": [
    "sorted_activity_europe_50 = activity_europe_50.groupby('full_name.1').size().reset_index(name='counts')\n",
    "sorted_activity_europe_50"
   ]
  },
  {
   "cell_type": "code",
   "execution_count": null,
   "metadata": {
    "colab": {
     "base_uri": "https://localhost:8080/",
     "height": 0
    },
    "executionInfo": {
     "elapsed": 365,
     "status": "ok",
     "timestamp": 1736416791046,
     "user": {
      "displayName": "Renan Le Blé",
      "userId": "01358649792202031598"
     },
     "user_tz": -60
    },
    "id": "RO9GAVSDj4QN",
    "jupyter": {
     "source_hidden": true
    },
    "outputId": "83413a89-0766-427c-f962-437ae5cfed6d"
   },
   "outputs": [],
   "source": [
    "first_activity_dates = activity_europe_50.groupby('full_name.1')['start_date'].min().reset_index()\n",
    "first_activity_dates.rename(columns={'start_date': 'first_activity'}, inplace=True)\n",
    "sorted_activity_europe_50 = pd.merge(sorted_activity_europe_50, first_activity_dates, on='full_name.1', how='left')\n",
    "sorted_activity_europe_50"
   ]
  },
  {
   "cell_type": "code",
   "execution_count": null,
   "metadata": {
    "executionInfo": {
     "elapsed": 218,
     "status": "ok",
     "timestamp": 1736416791261,
     "user": {
      "displayName": "Renan Le Blé",
      "userId": "01358649792202031598"
     },
     "user_tz": -60
    },
    "id": "JBIEUFZlkqAC",
    "jupyter": {
     "source_hidden": true
    }
   },
   "outputs": [],
   "source": [
    "last_activity_dates = activity_europe_50.groupby('full_name.1')['start_date'].max().reset_index()\n",
    "last_activity_dates.rename(columns={'start_date': 'last_activity'}, inplace=True)\n",
    "sorted_activity_europe_50 = pd.merge(sorted_activity_europe_50, last_activity_dates, on='full_name.1', how='left')\n",
    "#sorted_activity_europe_50"
   ]
  },
  {
   "cell_type": "code",
   "execution_count": null,
   "metadata": {
    "executionInfo": {
     "elapsed": 4,
     "status": "ok",
     "timestamp": 1736416791261,
     "user": {
      "displayName": "Renan Le Blé",
      "userId": "01358649792202031598"
     },
     "user_tz": -60
    },
    "id": "5tXn0wWBlOR1",
    "jupyter": {
     "source_hidden": true
    }
   },
   "outputs": [],
   "source": [
    "sorted_activity_europe_50['first_activity'] = pd.to_datetime(sorted_activity_europe_50['first_activity'])\n",
    "sorted_activity_europe_50['last_activity'] = pd.to_datetime(sorted_activity_europe_50['last_activity'])\n",
    "sorted_activity_europe_50['number_days'] = 1+ (sorted_activity_europe_50['last_activity'] - sorted_activity_europe_50['first_activity']).dt.days\n",
    "#sorted_activity_europe_50"
   ]
  },
  {
   "cell_type": "code",
   "execution_count": null,
   "metadata": {
    "executionInfo": {
     "elapsed": 14377,
     "status": "ok",
     "timestamp": 1736416805839,
     "user": {
      "displayName": "Renan Le Blé",
      "userId": "01358649792202031598"
     },
     "user_tz": -60
    },
    "id": "49NxmaqNCIK_",
    "jupyter": {
     "source_hidden": true
    }
   },
   "outputs": [],
   "source": [
    "# prompt: Add an extra column to sorted_activity_europe_50 called activity_last_week. The entries of the column activity_last_week should be equal to the counts of entries of full_name.1 between the current date and the curret date minus7 days\n",
    "\n",
    "# Assuming 'start_date' column is already datetime objects. If not, convert it first:\n",
    "# sorted_activity_europe_50['start_date'] = pd.to_datetime(sorted_activity_europe_50['start_date'])\n",
    "\n",
    "import datetime\n",
    "\n",
    "# Ensure 'start_date' in activity_europe_50 is datetime\n",
    "activity_europe_50['start_date'] = pd.to_datetime(activity_europe_50['start_date'])\n",
    "\n",
    "def count_activity_last_week(df, user):\n",
    "    today = datetime.date.today()\n",
    "    last_week = today - datetime.timedelta(days=7)\n",
    "    user_activity = df[df['full_name.1'] == user]\n",
    "    last_week_activity = user_activity[\n",
    "        (user_activity['start_date'].dt.date >= last_week) &\n",
    "        (user_activity['start_date'].dt.date <= today)\n",
    "    ]\n",
    "    return len(last_week_activity)\n",
    "\n",
    "\n",
    "activity_last_week = []\n",
    "for user in sorted_activity_europe_50['full_name.1']:\n",
    "    activity_last_week.append(count_activity_last_week(activity_europe_50, user))\n",
    "\n",
    "sorted_activity_europe_50['activity_last_week'] = activity_last_week\n",
    "#sorted_activity_europe_50"
   ]
  },
  {
   "cell_type": "code",
   "execution_count": null,
   "metadata": {
    "executionInfo": {
     "elapsed": 14608,
     "status": "ok",
     "timestamp": 1736416820444,
     "user": {
      "displayName": "Renan Le Blé",
      "userId": "01358649792202031598"
     },
     "user_tz": -60
    },
    "id": "AsNmjrKCEabQ",
    "jupyter": {
     "source_hidden": true
    }
   },
   "outputs": [],
   "source": [
    "# prompt: Add an extra column to sorted_activity_europe_50 called activity_last_2_week. The entries of the column activity_last_2_week should be equal to the counts of entries of full_name.1 between the current date and the curret date minus 14 days\n",
    "\n",
    "# Ensure 'start_date' in activity_europe_50 is datetime\n",
    "activity_europe_50['start_date'] = pd.to_datetime(activity_europe_50['start_date'])\n",
    "\n",
    "def count_activity_last_2_weeks(df, user):\n",
    "    today = datetime.date.today()\n",
    "    two_weeks_ago = today - datetime.timedelta(days=14)\n",
    "    user_activity = df[df['full_name.1'] == user]\n",
    "    last_2_weeks_activity = user_activity[\n",
    "        (user_activity['start_date'].dt.date >= two_weeks_ago) &\n",
    "        (user_activity['start_date'].dt.date <= today)\n",
    "    ]\n",
    "    return len(last_2_weeks_activity)\n",
    "\n",
    "activity_last_2_week = []\n",
    "for user in sorted_activity_europe_50['full_name.1']:\n",
    "    activity_last_2_week.append(count_activity_last_2_weeks(activity_europe_50, user))\n",
    "\n",
    "sorted_activity_europe_50['activity_last_2_week'] = activity_last_2_week\n",
    "#sorted_activity_europe_50"
   ]
  },
  {
   "cell_type": "code",
   "execution_count": null,
   "metadata": {
    "executionInfo": {
     "elapsed": 16129,
     "status": "ok",
     "timestamp": 1736416836569,
     "user": {
      "displayName": "Renan Le Blé",
      "userId": "01358649792202031598"
     },
     "user_tz": -60
    },
    "id": "LERcrT-hFJwE",
    "jupyter": {
     "source_hidden": true
    }
   },
   "outputs": [],
   "source": [
    "# prompt: Add an extra column to sorted_activity_europe_50 called activity_last_30_days. The entries of the column activity_last_30_days should be equal to the counts of entries of full_name.1 between the current date and the curret date minus 31 days\n",
    "\n",
    "def count_activity_last_30_days(df, user):\n",
    "    today = datetime.date.today()\n",
    "    month_ago = today - datetime.timedelta(days=30)\n",
    "    user_activity = df[df['full_name.1'] == user]\n",
    "    last_month_activity = user_activity[\n",
    "        (user_activity['start_date'].dt.date >= month_ago) &\n",
    "        (user_activity['start_date'].dt.date <= today)\n",
    "    ]\n",
    "    return len(last_month_activity)\n",
    "\n",
    "activity_last_30_days = []\n",
    "for user in sorted_activity_europe_50['full_name.1']:\n",
    "    activity_last_30_days.append(count_activity_last_30_days(activity_europe_50, user))\n",
    "\n",
    "sorted_activity_europe_50['activity_last_30_days'] = activity_last_30_days\n",
    "#sorted_activity_europe_50"
   ]
  },
  {
   "cell_type": "code",
   "execution_count": null,
   "metadata": {
    "executionInfo": {
     "elapsed": 14240,
     "status": "ok",
     "timestamp": 1736416850806,
     "user": {
      "displayName": "Renan Le Blé",
      "userId": "01358649792202031598"
     },
     "user_tz": -60
    },
    "id": "b-YvRmJdCHEu",
    "jupyter": {
     "source_hidden": true
    }
   },
   "outputs": [],
   "source": [
    "def count_activity_last_90_days(df, user):\n",
    "    today = datetime.date.today()\n",
    "    month_3_ago = today - datetime.timedelta(days=90)\n",
    "    user_activity = df[df['full_name.1'] == user]\n",
    "    last_3_month_activity = user_activity[\n",
    "        (user_activity['start_date'].dt.date >= month_3_ago) &\n",
    "        (user_activity['start_date'].dt.date <= today)\n",
    "    ]\n",
    "    return len(last_3_month_activity)\n",
    "\n",
    "activity_last_90_days = []\n",
    "for user in sorted_activity_europe_50['full_name.1']:\n",
    "    activity_last_90_days.append(count_activity_last_90_days(activity_europe_50, user))\n",
    "\n",
    "sorted_activity_europe_50['activity_last_90_days'] = activity_last_90_days\n",
    "#sorted_activity_europe_50"
   ]
  },
  {
   "cell_type": "code",
   "execution_count": null,
   "metadata": {
    "executionInfo": {
     "elapsed": 14369,
     "status": "ok",
     "timestamp": 1736416865169,
     "user": {
      "displayName": "Renan Le Blé",
      "userId": "01358649792202031598"
     },
     "user_tz": -60
    },
    "id": "1tPuCVlXCHRK",
    "jupyter": {
     "source_hidden": true
    }
   },
   "outputs": [],
   "source": [
    "def count_activity_last_year(df, user):\n",
    "    today = datetime.date.today()\n",
    "    year_ago = today - datetime.timedelta(days=365)\n",
    "    user_activity = df[df['full_name.1'] == user]\n",
    "    last_year_activity = user_activity[\n",
    "        (user_activity['start_date'].dt.date >= year_ago) &\n",
    "        (user_activity['start_date'].dt.date <= today)\n",
    "    ]\n",
    "    return len(last_year_activity)\n",
    "\n",
    "activity_last_year = []\n",
    "for user in sorted_activity_europe_50['full_name.1']:\n",
    "    activity_last_year.append(count_activity_last_year(activity_europe_50, user))\n",
    "\n",
    "sorted_activity_europe_50['activity_last_year'] = activity_last_year\n",
    "#sorted_activity_europe_50"
   ]
  },
  {
   "cell_type": "code",
   "execution_count": null,
   "metadata": {
    "executionInfo": {
     "elapsed": 18,
     "status": "ok",
     "timestamp": 1736416865169,
     "user": {
      "displayName": "Renan Le Blé",
      "userId": "01358649792202031598"
     },
     "user_tz": -60
    },
    "id": "M4xQi9AOmkAK",
    "jupyter": {
     "source_hidden": true
    }
   },
   "outputs": [],
   "source": [
    "sorted_activity_europe_50['activity_per_day_since_acquisition'] = sorted_activity_europe_50['counts'] / sorted_activity_europe_50['number_days']\n",
    "sorted_activity_europe_50['activity_per_day_7_days'] = sorted_activity_europe_50['activity_last_week'] / 7\n",
    "sorted_activity_europe_50['activity_per_day_14_days'] = sorted_activity_europe_50['activity_last_2_week'] / 14\n",
    "sorted_activity_europe_50['activity_per_day_30_days'] = sorted_activity_europe_50['activity_last_30_days'] / 30\n",
    "sorted_activity_europe_50['activity_per_day_90_days'] = sorted_activity_europe_50['activity_last_90_days'] / 90\n",
    "sorted_activity_europe_50['activity_per_day_year'] = sorted_activity_europe_50['activity_last_year'] / 365\n",
    "#sorted_activity_europe_50\n",
    "#round the result to 1 digit after the comma\n",
    "sorted_activity_europe_50 = sorted_activity_europe_50.round({'activity_per_day_since_acquisition': 1, 'activity_per_day_7_days': 1, 'activity_per_day_14_days': 1, 'activity_per_day_30_days': 1, 'activity_per_day_90_days': 1, 'activity_per_day_year': 1})"
   ]
  },
  {
   "cell_type": "code",
   "execution_count": null,
   "metadata": {
    "executionInfo": {
     "elapsed": 17,
     "status": "ok",
     "timestamp": 1736416865169,
     "user": {
      "displayName": "Renan Le Blé",
      "userId": "01358649792202031598"
     },
     "user_tz": -60
    },
    "id": "pxEyRt2LoA5C",
    "jupyter": {
     "source_hidden": true
    }
   },
   "outputs": [],
   "source": [
    "sorted_activity_europe_50 = sorted_activity_europe_50.sort_values(by=['activity_per_day_since_acquisition'], ascending=False)\n",
    "#sorted_activity_europe_50"
   ]
  },
  {
   "cell_type": "code",
   "execution_count": null,
   "metadata": {
    "executionInfo": {
     "elapsed": 16,
     "status": "ok",
     "timestamp": 1736416865169,
     "user": {
      "displayName": "Renan Le Blé",
      "userId": "01358649792202031598"
     },
     "user_tz": -60
    },
    "id": "K4gY0mKqV1Nf",
    "jupyter": {
     "source_hidden": true
    }
   },
   "outputs": [],
   "source": [
    "sorted_activity_europe_50['rank_activity_7_days'] = sorted_activity_europe_50['activity_last_week'].rank(ascending=False, method='min').astype(int)\n",
    "sorted_activity_europe_50['rank_activity_14_days'] = sorted_activity_europe_50['activity_last_2_week'].rank(ascending=False, method='min').astype(int)\n",
    "sorted_activity_europe_50['rank_activity_30_days'] = sorted_activity_europe_50['activity_last_30_days'].rank(ascending=False, method='min').astype(int)\n",
    "sorted_activity_europe_50['rank_activity_90_days'] = sorted_activity_europe_50['activity_last_90_days'].rank(ascending=False, method='min').astype(int)\n",
    "sorted_activity_europe_50['rank_activity_year'] = sorted_activity_europe_50['activity_last_year'].rank(ascending=False, method='min').astype(int)\n",
    "sorted_activity_europe_50['rank_activity_per_day_since_acquisition'] = sorted_activity_europe_50['activity_per_day_since_acquisition'].rank(ascending=False, method='min').astype(int)\n",
    "sorted_activity_europe_50['rank_activity_per_day_7_days'] = sorted_activity_europe_50['activity_per_day_7_days'].rank(ascending=False, method='min').astype(int)\n",
    "sorted_activity_europe_50['rank_activity_per_day_14_days'] = sorted_activity_europe_50['activity_per_day_14_days'].rank(ascending=False, method='min').astype(int)\n",
    "sorted_activity_europe_50['rank_activity_per_day_30_days'] = sorted_activity_europe_50['activity_per_day_30_days'].rank(ascending=False, method='min').astype(int)\n",
    "sorted_activity_europe_50['rank_activity_per_day_90_days'] = sorted_activity_europe_50['activity_per_day_90_days'].rank(ascending=False, method='min').astype(int)\n",
    "sorted_activity_europe_50['rank_activity_per_day_year'] = sorted_activity_europe_50['activity_per_day_year'].rank(ascending=False, method='min').astype(int)\n",
    "\n",
    "#sorted_activity_europe_50"
   ]
  },
  {
   "cell_type": "code",
   "execution_count": null,
   "metadata": {
    "executionInfo": {
     "elapsed": 15,
     "status": "ok",
     "timestamp": 1736416865169,
     "user": {
      "displayName": "Renan Le Blé",
      "userId": "01358649792202031598"
     },
     "user_tz": -60
    },
    "id": "bZir8MuH-6lY",
    "jupyter": {
     "source_hidden": true
    }
   },
   "outputs": [],
   "source": [
    "sorted_activity_europe_50['percentage_total_activity_per_day'] = (sorted_activity_europe_50['activity_per_day_since_acquisition'] / sorted_activity_europe_50['activity_per_day_since_acquisition'].sum()) * 100\n",
    "#sorted_activity_europe_50"
   ]
  },
  {
   "cell_type": "code",
   "execution_count": null,
   "metadata": {
    "executionInfo": {
     "elapsed": 14,
     "status": "ok",
     "timestamp": 1736416865169,
     "user": {
      "displayName": "Renan Le Blé",
      "userId": "01358649792202031598"
     },
     "user_tz": -60
    },
    "id": "HLqkkWKPJ8Vs",
    "jupyter": {
     "source_hidden": true
    }
   },
   "outputs": [],
   "source": [
    "sorted_activity_europe_50['cumulated_percentage_total_activity_per_day'] = sorted_activity_europe_50['percentage_total_activity_per_day'].cumsum()\n",
    "#sorted_activity_europe_50"
   ]
  },
  {
   "cell_type": "code",
   "execution_count": null,
   "metadata": {
    "executionInfo": {
     "elapsed": 14,
     "status": "ok",
     "timestamp": 1736416865169,
     "user": {
      "displayName": "Renan Le Blé",
      "userId": "01358649792202031598"
     },
     "user_tz": -60
    },
    "id": "Bj0b1tQHcGAe",
    "jupyter": {
     "source_hidden": true
    }
   },
   "outputs": [],
   "source": [
    "\n",
    "def format_timedelta(days):\n",
    "    years = days // 365\n",
    "    months = (days % 365) // 30\n",
    "    remaining_days = (days % 365) % 30\n",
    "    return f\"{years} an(s), {months} mois, {remaining_days} jour(s)\"\n",
    "\n",
    "sorted_activity_europe_50['formatted_duration'] = sorted_activity_europe_50['number_days'].apply(format_timedelta)\n",
    "#sorted_activity_europe_50"
   ]
  },
  {
   "cell_type": "markdown",
   "metadata": {
    "id": "XpBvd1lTBlS9",
    "jp-MarkdownHeadingCollapsed": true
   },
   "source": [
    "# Liste des clients non rentables"
   ]
  },
  {
   "cell_type": "markdown",
   "metadata": {
    "id": "kuApR1xaG8AD",
    "jp-MarkdownHeadingCollapsed": true
   },
   "source": [
    "# Sur 7 jours"
   ]
  },
  {
   "cell_type": "code",
   "execution_count": null,
   "metadata": {
    "cellView": "form",
    "colab": {
     "base_uri": "https://localhost:8080/",
     "height": 1000
    },
    "executionInfo": {
     "elapsed": 491,
     "status": "ok",
     "timestamp": 1736416865647,
     "user": {
      "displayName": "Renan Le Blé",
      "userId": "01358649792202031598"
     },
     "user_tz": -60
    },
    "id": "paVX7W8UBtVL",
    "jupyter": {
     "source_hidden": true
    },
    "outputId": "7e041d27-bb28-4dac-d8a3-93372cc033dd"
   },
   "outputs": [],
   "source": [
    "# @title\n",
    "# Display sorted_activity_europe_50 with activity_last_7_days < 1.25, showing only 'full_name.1' and 'activity_last_7_days'\n",
    "display_unprofitable_clients_activity_per_days_7_days = sorted_activity_europe_50[sorted_activity_europe_50['activity_per_day_7_days'] < 1.3][['full_name.1', 'activity_per_day_7_days']].sort_values(by=['activity_per_day_7_days'], ascending=False)\n",
    "display_unprofitable_clients_activity_per_days_7_days = display_unprofitable_clients_activity_per_days_7_days.rename(columns={\n",
    "    'full_name.1' : 'Nom du client',\n",
    "    'activity_per_day_7_days': 'Nombre moyen séance par jours sur les 7 derniers jours',\n",
    "        })\n",
    "print(f\"{len(display_unprofitable_clients_activity_per_days_7_days)} clients sur \"+ f\"{len(sorted_activity_europe_50)}\" + \" ne sont pas rentables sur les 7 derniers jours\")\n",
    "display(display_unprofitable_clients_activity_per_days_7_days.style.hide(axis='index'))"
   ]
  },
  {
   "cell_type": "markdown",
   "metadata": {
    "id": "HjGFqB7QHCMF",
    "jp-MarkdownHeadingCollapsed": true
   },
   "source": [
    "# Sur  14 jours"
   ]
  },
  {
   "cell_type": "code",
   "execution_count": null,
   "metadata": {
    "cellView": "form",
    "colab": {
     "base_uri": "https://localhost:8080/",
     "height": 0
    },
    "executionInfo": {
     "elapsed": 36,
     "status": "ok",
     "timestamp": 1736416865648,
     "user": {
      "displayName": "Renan Le Blé",
      "userId": "01358649792202031598"
     },
     "user_tz": -60
    },
    "id": "LqMENIbAHS4L",
    "jupyter": {
     "source_hidden": true
    },
    "outputId": "b34d5a7f-fd47-494d-adde-06c3edd61008"
   },
   "outputs": [],
   "source": [
    "# @title\n",
    "display_unprofitable_clients_activity_per_days_14_days = sorted_activity_europe_50[sorted_activity_europe_50['activity_per_day_14_days'] < 1.3][['full_name.1', 'activity_per_day_14_days']].sort_values(by=['activity_per_day_14_days'], ascending=False)\n",
    "display_unprofitable_clients_activity_per_days_14_days = display_unprofitable_clients_activity_per_days_14_days.rename(columns={\n",
    "    'full_name.1' : 'Nom du client',\n",
    "    'activity_per_day_14_days': 'Nombre moyen séance par jours sur les 14 derniers jours',\n",
    "        })\n",
    "print(f\"{len(display_unprofitable_clients_activity_per_days_14_days)} clients sur \"+ f\"{len(sorted_activity_europe_50)}\" + \" ne sont pas rentables sur les 14 derniers jours\")\n",
    "display(display_unprofitable_clients_activity_per_days_14_days.style.hide(axis='index'))"
   ]
  },
  {
   "cell_type": "markdown",
   "metadata": {
    "id": "Ey8ztVJLHHtn",
    "jp-MarkdownHeadingCollapsed": true
   },
   "source": [
    "# Sur 30 jours"
   ]
  },
  {
   "cell_type": "code",
   "execution_count": null,
   "metadata": {
    "cellView": "form",
    "colab": {
     "base_uri": "https://localhost:8080/",
     "height": 0
    },
    "executionInfo": {
     "elapsed": 31,
     "status": "ok",
     "timestamp": 1736416865648,
     "user": {
      "displayName": "Renan Le Blé",
      "userId": "01358649792202031598"
     },
     "user_tz": -60
    },
    "id": "0k5LMp6JHgQv",
    "jupyter": {
     "source_hidden": true
    },
    "outputId": "ffaf36f8-af1e-45fb-a6f7-7cf577563fa8"
   },
   "outputs": [],
   "source": [
    "# @title\n",
    "display_unprofitable_clients_activity_per_days_30_days = sorted_activity_europe_50[sorted_activity_europe_50['activity_per_day_30_days'] < 1.3][['full_name.1', 'activity_per_day_30_days']].sort_values(by=['activity_per_day_30_days'], ascending=False)\n",
    "display_unprofitable_clients_activity_per_days_30_days = display_unprofitable_clients_activity_per_days_30_days.rename(columns={\n",
    "    'full_name.1' : 'Nom du client',\n",
    "    'activity_per_day_30_days': 'Nombre moyen séance par jours sur les 30 derniers jours',\n",
    "        })\n",
    "print(f\"{len(display_unprofitable_clients_activity_per_days_30_days)} clients sur \"+ f\"{len(sorted_activity_europe_50)}\" + \" ne sont pas rentables sur les 30 derniers jours\")\n",
    "display(display_unprofitable_clients_activity_per_days_30_days.style.hide(axis='index'))"
   ]
  },
  {
   "cell_type": "markdown",
   "metadata": {
    "id": "dSZVbAHKHMbe",
    "jp-MarkdownHeadingCollapsed": true
   },
   "source": [
    "# Sur 90 jours"
   ]
  },
  {
   "cell_type": "code",
   "execution_count": null,
   "metadata": {
    "cellView": "form",
    "colab": {
     "base_uri": "https://localhost:8080/",
     "height": 0
    },
    "executionInfo": {
     "elapsed": 26,
     "status": "ok",
     "timestamp": 1736416865648,
     "user": {
      "displayName": "Renan Le Blé",
      "userId": "01358649792202031598"
     },
     "user_tz": -60
    },
    "id": "FiVdh33oHwm3",
    "jupyter": {
     "source_hidden": true
    },
    "outputId": "42fce83a-f7f3-442f-d802-12631a4163f2"
   },
   "outputs": [],
   "source": [
    "# @title\n",
    "display_unprofitable_clients_activity_per_days_90_days = sorted_activity_europe_50[sorted_activity_europe_50['activity_per_day_90_days'] < 1.3][['full_name.1', 'activity_per_day_90_days']].sort_values(by=['activity_per_day_90_days'], ascending=False)\n",
    "display_unprofitable_clients_activity_per_days_90_days = display_unprofitable_clients_activity_per_days_90_days.rename(columns={\n",
    "    'full_name.1' : 'Nom du client',\n",
    "    'activity_per_day_90_days': 'Nombre moyen séance par jours sur les 90 derniers jours',\n",
    "        })\n",
    "print(f\"{len(display_unprofitable_clients_activity_per_days_90_days)} clients sur \"+ f\"{len(sorted_activity_europe_50)}\" + \" ne sont pas rentables sur les 90 derniers jours\")\n",
    "display(display_unprofitable_clients_activity_per_days_90_days.style.hide(axis='index'))"
   ]
  },
  {
   "cell_type": "markdown",
   "metadata": {
    "id": "5npjqWckHPdk",
    "jp-MarkdownHeadingCollapsed": true
   },
   "source": [
    "# Sur 1 an"
   ]
  },
  {
   "cell_type": "code",
   "execution_count": null,
   "metadata": {
    "cellView": "form",
    "colab": {
     "base_uri": "https://localhost:8080/",
     "height": 0
    },
    "executionInfo": {
     "elapsed": 21,
     "status": "ok",
     "timestamp": 1736416865648,
     "user": {
      "displayName": "Renan Le Blé",
      "userId": "01358649792202031598"
     },
     "user_tz": -60
    },
    "id": "-beJkqyaH7O6",
    "jupyter": {
     "source_hidden": true
    },
    "outputId": "60f0420b-fbb1-43b9-9eb6-9ee10e0eea93"
   },
   "outputs": [],
   "source": [
    "# @title\n",
    "display_unprofitable_clients_activity_per_days_year = sorted_activity_europe_50[sorted_activity_europe_50['activity_per_day_year'] < 1.3][['full_name.1', 'activity_per_day_year']].sort_values(by=['activity_per_day_year'], ascending=False)\n",
    "display_unprofitable_clients_activity_per_days_year = display_unprofitable_clients_activity_per_days_year.rename(columns={\n",
    "    'full_name.1' : 'Nom du client',\n",
    "    'activity_per_day_year': 'Nombre moyen séance par jours sur 1 an',\n",
    "        })\n",
    "print(f\"{len(display_unprofitable_clients_activity_per_days_90_days)} clients sur \"+ f\"{len(sorted_activity_europe_50)}\" + \" ne sont pas rentables sur 1 an\")\n",
    "display(display_unprofitable_clients_activity_per_days_90_days.style.hide(axis='index'))"
   ]
  },
  {
   "cell_type": "markdown",
   "metadata": {
    "id": "Wur4i7hMo0iD"
   },
   "source": [
    "# Classement des 30 premiers clients européens en fonction du nombre moyen de séances par jour\n"
   ]
  },
  {
   "cell_type": "markdown",
   "metadata": {
    "id": "z7vrgV6dph13",
    "jp-MarkdownHeadingCollapsed": true
   },
   "source": [
    "# Depuis l'acquisition de l'appareil V4"
   ]
  },
  {
   "cell_type": "code",
   "execution_count": null,
   "metadata": {
    "cellView": "form",
    "colab": {
     "base_uri": "https://localhost:8080/",
     "height": 0
    },
    "executionInfo": {
     "elapsed": 18,
     "status": "ok",
     "timestamp": 1736416865649,
     "user": {
      "displayName": "Renan Le Blé",
      "userId": "01358649792202031598"
     },
     "user_tz": -60
    },
    "id": "zVvmog8lLM3n",
    "jupyter": {
     "source_hidden": true
    },
    "outputId": "4b21f15e-bfec-45be-8b35-21dfa70efc0b"
   },
   "outputs": [],
   "source": [
    "# @title\n",
    "display_30_best_clients_activity_per_days_entire_period = sorted_activity_europe_50[['full_name.1', 'activity_per_day_since_acquisition', 'rank_activity_per_day_since_acquisition']]\n",
    "display_30_best_clients_activity_per_days_entire_period = display_30_best_clients_activity_per_days_entire_period.rename(columns={\n",
    "    'full_name.1' : 'Nom du client',\n",
    "    'activity_per_day_since_acquisition': 'Nombre moyen séance par jours depuis acquisition',\n",
    "    'rank_activity_per_day_since_acquisition' : 'Classement en fonction de l\\'activité depuis l\\'acquisition'\n",
    "    })\n",
    "\n",
    "#display_30_best_clients_activity_per_days_entire_period\n",
    "display(display_30_best_clients_activity_per_days_entire_period.head(30).style.hide(axis='index'))"
   ]
  },
  {
   "cell_type": "code",
   "execution_count": null,
   "metadata": {
    "cellView": "form",
    "colab": {
     "base_uri": "https://localhost:8080/",
     "height": 0
    },
    "executionInfo": {
     "elapsed": 860,
     "status": "ok",
     "timestamp": 1736416866493,
     "user": {
      "displayName": "Renan Le Blé",
      "userId": "01358649792202031598"
     },
     "user_tz": -60
    },
    "id": "L-BVjLGBSOEC",
    "jupyter": {
     "source_hidden": true
    },
    "outputId": "c9d4b5ff-3c49-4f0b-e7f3-72ee423a08aa"
   },
   "outputs": [],
   "source": [
    "# @title\n",
    "import matplotlib.pyplot as plt\n",
    "plt.figure(figsize=(10, 6))\n",
    "plt.scatter(display_30_best_clients_activity_per_days_entire_period.head(30)['Nom du client'], display_30_best_clients_activity_per_days_entire_period.head(30)['Nombre moyen séance par jours depuis acquisition'],  alpha=0.7)\n",
    "plt.xlabel('Nom du client')\n",
    "plt.ylabel('Nombres moyen de séances par jours')\n",
    "plt.title('Classement des 30 premiers clients européens en fonction du nombre moyen de séances par jour depuis l\\'acquisition de l\\'appareil V4')\n",
    "_ = plt.xticks(rotation=90)"
   ]
  },
  {
   "cell_type": "markdown",
   "metadata": {
    "id": "greKFkTAptEK",
    "jp-MarkdownHeadingCollapsed": true
   },
   "source": [
    "# sur les 7 derniers jours"
   ]
  },
  {
   "cell_type": "code",
   "execution_count": null,
   "metadata": {
    "cellView": "form",
    "colab": {
     "base_uri": "https://localhost:8080/",
     "height": 0
    },
    "executionInfo": {
     "elapsed": 6,
     "status": "ok",
     "timestamp": 1736416866493,
     "user": {
      "displayName": "Renan Le Blé",
      "userId": "01358649792202031598"
     },
     "user_tz": -60
    },
    "id": "hkRQ9IcvF_Fc",
    "jupyter": {
     "source_hidden": true
    },
    "outputId": "82752334-153f-49af-a580-0568d2974ab5"
   },
   "outputs": [],
   "source": [
    "# @title\n",
    "display_30_best_clients_activity_per_days_7_days = sorted_activity_europe_50[['full_name.1', 'activity_per_day_7_days', 'rank_activity_per_day_7_days']].sort_values(by=['activity_per_day_7_days'], ascending=False)\n",
    "display_30_best_clients_activity_per_days_7_days = display_30_best_clients_activity_per_days_7_days.rename(columns={\n",
    "    'full_name.1' : 'Nom du client',\n",
    "    'activity_per_day_7_days': 'Nombre moyen séances par jours sur les 7 derniers jours',\n",
    "    'rank_activity_per_day_7_days' : 'Classement en fonction de l\\'activité sur les 7 derniers jours'\n",
    "    })\n",
    "\n",
    "\n",
    "display(display_30_best_clients_activity_per_days_7_days.head(30).style.hide(axis='index'))"
   ]
  },
  {
   "cell_type": "code",
   "execution_count": null,
   "metadata": {
    "cellView": "form",
    "colab": {
     "base_uri": "https://localhost:8080/",
     "height": 0
    },
    "executionInfo": {
     "elapsed": 536,
     "status": "ok",
     "timestamp": 1736416867024,
     "user": {
      "displayName": "Renan Le Blé",
      "userId": "01358649792202031598"
     },
     "user_tz": -60
    },
    "id": "Tqn3h5Y4F_hv",
    "jupyter": {
     "source_hidden": true
    },
    "outputId": "b579eba4-7cab-4091-e8e6-2a0bba6522b4"
   },
   "outputs": [],
   "source": [
    "# @title\n",
    "import matplotlib.pyplot as plt\n",
    "plt.figure(figsize=(10, 6))\n",
    "plt.scatter(display_30_best_clients_activity_per_days_7_days.head(30)['Nom du client'], display_30_best_clients_activity_per_days_7_days.head(30)['Nombre moyen séances par jours sur les 7 derniers jours'],  alpha=0.7)\n",
    "plt.xlabel('Nom du client')\n",
    "plt.ylabel('Nombres moyen de séances par jours')\n",
    "plt.title('Classement des 30 premiers clients européens en fonction du nombre moyen de séances par jour sur les 7 derniers jours')\n",
    "_ = plt.xticks(rotation=90)"
   ]
  },
  {
   "cell_type": "markdown",
   "metadata": {
    "id": "iRfTIODFp4qt",
    "jp-MarkdownHeadingCollapsed": true
   },
   "source": [
    "# sur les 14 derniers jours"
   ]
  },
  {
   "cell_type": "code",
   "execution_count": null,
   "metadata": {
    "cellView": "form",
    "colab": {
     "base_uri": "https://localhost:8080/",
     "height": 0
    },
    "executionInfo": {
     "elapsed": 13,
     "status": "ok",
     "timestamp": 1736416867025,
     "user": {
      "displayName": "Renan Le Blé",
      "userId": "01358649792202031598"
     },
     "user_tz": -60
    },
    "id": "-T2T4RmyGAsP",
    "jupyter": {
     "source_hidden": true
    },
    "outputId": "7a1810c9-cd3a-40ea-b461-58c8a5dd5ccf"
   },
   "outputs": [],
   "source": [
    "# @title\n",
    "display_30_best_clients_activity_per_days_14_days = sorted_activity_europe_50[['full_name.1', 'activity_per_day_14_days', 'rank_activity_per_day_14_days']].sort_values(by=['activity_per_day_14_days'], ascending=False)\n",
    "display_30_best_clients_activity_per_days_14_days = display_30_best_clients_activity_per_days_14_days.rename(columns={\n",
    "    'full_name.1' : 'Nom du client',\n",
    "    'activity_per_day_14_days': 'Nombre moyen séances par jours sur les 14 derniers jours',\n",
    "    'rank_activity_per_day_14_days' : 'Classement en fonction de l\\'activité sur les 14 derniers jours'\n",
    "    })\n",
    "\n",
    "\n",
    "display(display_30_best_clients_activity_per_days_14_days.head(30).style.hide(axis='index'))"
   ]
  },
  {
   "cell_type": "code",
   "execution_count": null,
   "metadata": {
    "cellView": "form",
    "colab": {
     "base_uri": "https://localhost:8080/",
     "height": 0
    },
    "executionInfo": {
     "elapsed": 552,
     "status": "ok",
     "timestamp": 1736416867567,
     "user": {
      "displayName": "Renan Le Blé",
      "userId": "01358649792202031598"
     },
     "user_tz": -60
    },
    "id": "MKig1nNZGA0J",
    "jupyter": {
     "source_hidden": true
    },
    "outputId": "2629a604-b835-410c-cc55-37e6e6ec4129"
   },
   "outputs": [],
   "source": [
    "# @title\n",
    "import matplotlib.pyplot as plt\n",
    "plt.figure(figsize=(10, 6))\n",
    "plt.scatter(display_30_best_clients_activity_per_days_14_days.head(30)['Nom du client'], display_30_best_clients_activity_per_days_14_days.head(30)['Nombre moyen séances par jours sur les 14 derniers jours'],  alpha=0.7)\n",
    "plt.xlabel('Nom du client')\n",
    "plt.ylabel('Nombres moyen de séances par jours')\n",
    "plt.title('Classement des 30 premiers clients européens en fonction du nombre moyen de séances par jour sur les 14 derniers jours')\n",
    "_ = plt.xticks(rotation=90)"
   ]
  },
  {
   "cell_type": "markdown",
   "metadata": {
    "id": "aPNy7SBpp9jI",
    "jp-MarkdownHeadingCollapsed": true
   },
   "source": [
    "# sur les 30 derniers jours"
   ]
  },
  {
   "cell_type": "code",
   "execution_count": null,
   "metadata": {
    "cellView": "form",
    "colab": {
     "base_uri": "https://localhost:8080/",
     "height": 0
    },
    "executionInfo": {
     "elapsed": 9,
     "status": "ok",
     "timestamp": 1736416867568,
     "user": {
      "displayName": "Renan Le Blé",
      "userId": "01358649792202031598"
     },
     "user_tz": -60
    },
    "id": "dtwn0t1SGBKs",
    "jupyter": {
     "source_hidden": true
    },
    "outputId": "bfc4d82f-5918-4d45-a955-6fe7f82566b4"
   },
   "outputs": [],
   "source": [
    "# @title\n",
    "display_30_best_clients_activity_per_days_30_days = sorted_activity_europe_50[['full_name.1', 'activity_per_day_30_days', 'rank_activity_per_day_30_days']].sort_values(by=['activity_per_day_30_days'], ascending=False)\n",
    "display_30_best_clients_activity_per_days_30_days = display_30_best_clients_activity_per_days_30_days.rename(columns={\n",
    "    'full_name.1' : 'Nom du client',\n",
    "    'activity_per_day_30_days': 'Nombre moyen séances par jours sur les 30 derniers jours',\n",
    "    'rank_activity_per_day_30_days' : 'Classement en fonction de l\\'activité sur les 30 derniers jours'\n",
    "    })\n",
    "\n",
    "\n",
    "display(display_30_best_clients_activity_per_days_30_days.head(30).style.hide(axis='index'))"
   ]
  },
  {
   "cell_type": "code",
   "execution_count": null,
   "metadata": {
    "cellView": "form",
    "colab": {
     "base_uri": "https://localhost:8080/",
     "height": 0
    },
    "executionInfo": {
     "elapsed": 529,
     "status": "ok",
     "timestamp": 1736416868089,
     "user": {
      "displayName": "Renan Le Blé",
      "userId": "01358649792202031598"
     },
     "user_tz": -60
    },
    "id": "LC0licWLGBSk",
    "jupyter": {
     "source_hidden": true
    },
    "outputId": "b82490f5-a08a-4ae0-89b4-6ad9d713a93c"
   },
   "outputs": [],
   "source": [
    "# @title\n",
    "import matplotlib.pyplot as plt\n",
    "plt.figure(figsize=(10, 6))\n",
    "plt.scatter(display_30_best_clients_activity_per_days_30_days.head(30)['Nom du client'], display_30_best_clients_activity_per_days_30_days.head(30)['Nombre moyen séances par jours sur les 30 derniers jours'],  alpha=0.7)\n",
    "plt.xlabel('Nom du client')\n",
    "plt.ylabel('Nombres moyen de séances par jours')\n",
    "plt.title('Classement des 30 premiers clients européens en fonction du nombre moyen de séances par jour sur les 30 derniers jours')\n",
    "_ = plt.xticks(rotation=90)"
   ]
  },
  {
   "cell_type": "markdown",
   "metadata": {
    "id": "QHr2ubxSqDD6",
    "jp-MarkdownHeadingCollapsed": true
   },
   "source": [
    "# sur les 90 derniers jours"
   ]
  },
  {
   "cell_type": "code",
   "execution_count": null,
   "metadata": {
    "cellView": "form",
    "colab": {
     "base_uri": "https://localhost:8080/",
     "height": 0
    },
    "executionInfo": {
     "elapsed": 11,
     "status": "ok",
     "timestamp": 1736416868090,
     "user": {
      "displayName": "Renan Le Blé",
      "userId": "01358649792202031598"
     },
     "user_tz": -60
    },
    "id": "205qNlOlGBqs",
    "jupyter": {
     "source_hidden": true
    },
    "outputId": "1656b522-e27c-4468-855f-a367216e4374"
   },
   "outputs": [],
   "source": [
    "# @title\n",
    "display_30_best_clients_activity_per_days_90_days = sorted_activity_europe_50[['full_name.1', 'activity_per_day_90_days', 'rank_activity_per_day_90_days']].sort_values(by=['activity_per_day_90_days'], ascending=False)\n",
    "display_30_best_clients_activity_per_days_90_days = display_30_best_clients_activity_per_days_90_days.rename(columns={\n",
    "    'full_name.1' : 'Nom du client',\n",
    "    'activity_per_day_90_days': 'Nombre moyen séances par jours sur les 90 derniers jours',\n",
    "    'rank_activity_per_day_90_days' : 'Classement en fonction de l\\'activité sur les 90 derniers jours'\n",
    "    })\n",
    "\n",
    "\n",
    "display(display_30_best_clients_activity_per_days_90_days.head(30).style.hide(axis='index'))"
   ]
  },
  {
   "cell_type": "code",
   "execution_count": null,
   "metadata": {
    "cellView": "form",
    "colab": {
     "base_uri": "https://localhost:8080/",
     "height": 0
    },
    "executionInfo": {
     "elapsed": 759,
     "status": "ok",
     "timestamp": 1736416868840,
     "user": {
      "displayName": "Renan Le Blé",
      "userId": "01358649792202031598"
     },
     "user_tz": -60
    },
    "id": "BFuWdKWWGBwm",
    "jupyter": {
     "source_hidden": true
    },
    "outputId": "040be6e1-c402-425c-c012-f694ddcfcc55"
   },
   "outputs": [],
   "source": [
    "# @title\n",
    "import matplotlib.pyplot as plt\n",
    "plt.figure(figsize=(10, 6))\n",
    "plt.scatter(display_30_best_clients_activity_per_days_90_days.head(30)['Nom du client'], display_30_best_clients_activity_per_days_90_days.head(30)['Nombre moyen séances par jours sur les 90 derniers jours'],  alpha=0.7)\n",
    "plt.xlabel('Nom du client')\n",
    "plt.ylabel('Nombres moyen de séances par jours')\n",
    "plt.title('Classement des 30 premiers clients européens en fonction du nombre moyen de séances par jour sur les 90 derniers jours')\n",
    "_ = plt.xticks(rotation=90)"
   ]
  },
  {
   "cell_type": "markdown",
   "metadata": {
    "id": "RX5CMjSNqQd9",
    "jp-MarkdownHeadingCollapsed": true
   },
   "source": [
    "# sur 1 an"
   ]
  },
  {
   "cell_type": "code",
   "execution_count": null,
   "metadata": {
    "cellView": "form",
    "colab": {
     "base_uri": "https://localhost:8080/",
     "height": 0
    },
    "executionInfo": {
     "elapsed": 11,
     "status": "ok",
     "timestamp": 1736416868840,
     "user": {
      "displayName": "Renan Le Blé",
      "userId": "01358649792202031598"
     },
     "user_tz": -60
    },
    "id": "mFnOKU6dGCBY",
    "jupyter": {
     "source_hidden": true
    },
    "outputId": "6dfa1f2e-8822-435f-f337-f252d37ae51c"
   },
   "outputs": [],
   "source": [
    "# @title\n",
    "display_30_best_clients_activity_per_days_year = sorted_activity_europe_50[['full_name.1', 'activity_per_day_year', 'rank_activity_per_day_year']].sort_values(by=['activity_per_day_year'], ascending=False)\n",
    "display_30_best_clients_activity_per_days_year = display_30_best_clients_activity_per_days_year.rename(columns={\n",
    "    'full_name.1' : 'Nom du client',\n",
    "    'activity_per_day_year': 'Nombre moyen séances par jours sur 1 an',\n",
    "    'rank_activity_per_day_year' : 'Classement en fonction de l\\'activité sur 1 an'\n",
    "    })\n",
    "\n",
    "\n",
    "display(display_30_best_clients_activity_per_days_year.head(30).style.hide(axis='index'))"
   ]
  },
  {
   "cell_type": "code",
   "execution_count": null,
   "metadata": {
    "cellView": "form",
    "colab": {
     "base_uri": "https://localhost:8080/",
     "height": 0
    },
    "executionInfo": {
     "elapsed": 514,
     "status": "ok",
     "timestamp": 1736416869345,
     "user": {
      "displayName": "Renan Le Blé",
      "userId": "01358649792202031598"
     },
     "user_tz": -60
    },
    "id": "WkJxGeAOGCIi",
    "jupyter": {
     "source_hidden": true
    },
    "outputId": "a5643630-4a9e-476a-b9f9-5153d3c80c5a"
   },
   "outputs": [],
   "source": [
    "# @title\n",
    "import matplotlib.pyplot as plt\n",
    "plt.figure(figsize=(10, 6))\n",
    "plt.scatter(display_30_best_clients_activity_per_days_year.head(30)['Nom du client'], display_30_best_clients_activity_per_days_year.head(30)['Nombre moyen séances par jours sur 1 an'],  alpha=0.7)\n",
    "plt.xlabel('Nom du client')\n",
    "plt.ylabel('Nombres moyen de séances par jours')\n",
    "plt.title('Classement des 30 premiers clients européens en fonction du nombre moyen de séances par jour sur 1 an')\n",
    "_ = plt.xticks(rotation=90)"
   ]
  },
  {
   "cell_type": "markdown",
   "metadata": {
    "id": "BivKw5O5sOlJ"
   },
   "source": [
    "# Classement des 30 premiers clients européens en fonction du nombre de séances"
   ]
  },
  {
   "cell_type": "markdown",
   "metadata": {
    "id": "cxdstFG4qkqN",
    "jp-MarkdownHeadingCollapsed": true
   },
   "source": [
    "# sur 7 jours"
   ]
  },
  {
   "cell_type": "code",
   "execution_count": null,
   "metadata": {
    "cellView": "form",
    "colab": {
     "base_uri": "https://localhost:8080/",
     "height": 0
    },
    "executionInfo": {
     "elapsed": 12,
     "status": "ok",
     "timestamp": 1736416869346,
     "user": {
      "displayName": "Renan Le Blé",
      "userId": "01358649792202031598"
     },
     "user_tz": -60
    },
    "id": "DnIdC0YRRByc",
    "jupyter": {
     "source_hidden": true
    },
    "outputId": "d77ac691-b0a9-4211-f642-eeec8ce2627b"
   },
   "outputs": [],
   "source": [
    "# @title\n",
    "display_30_best_clients_activity_7_days = sorted_activity_europe_50[['full_name.1', 'activity_last_week', 'rank_activity_7_days']].sort_values(by=['activity_last_week'], ascending=False)\n",
    "display_30_best_clients_activity_7_days = display_30_best_clients_activity_7_days.rename(columns={\n",
    "    'full_name.1' : 'Nom du client',\n",
    "    'activity_last_week': 'Nombre de séances sur les 7 derniers jours',\n",
    "    'rank_activity_7_days' : 'Classement en fonction de l\\'activité sur les 7 derniers jours'\n",
    "    })\n",
    "\n",
    "\n",
    "display(display_30_best_clients_activity_7_days.head(30).style.hide(axis='index'))"
   ]
  },
  {
   "cell_type": "code",
   "execution_count": null,
   "metadata": {
    "cellView": "form",
    "colab": {
     "base_uri": "https://localhost:8080/",
     "height": 0
    },
    "executionInfo": {
     "elapsed": 523,
     "status": "ok",
     "timestamp": 1736416869859,
     "user": {
      "displayName": "Renan Le Blé",
      "userId": "01358649792202031598"
     },
     "user_tz": -60
    },
    "id": "RLPtdm47LqVj",
    "jupyter": {
     "source_hidden": true
    },
    "outputId": "ece44803-fd57-4afe-b1f8-f96ecd60f3de"
   },
   "outputs": [],
   "source": [
    "# @title\n",
    "import matplotlib.pyplot as plt\n",
    "plt.figure(figsize=(10, 6))\n",
    "plt.scatter(display_30_best_clients_activity_7_days.head(30)['Nom du client'], display_30_best_clients_activity_7_days.head(30)['Nombre de séances sur les 7 derniers jours'], alpha=0.7)\n",
    "plt.xlabel('Nom du client')\n",
    "plt.ylabel('Nombres de séances par jours')\n",
    "plt.title('Classement des 30 clients européens avec le plus de séances sur les 7 derniers jours')\n",
    "_ = plt.xticks(rotation=90)"
   ]
  },
  {
   "cell_type": "markdown",
   "metadata": {
    "id": "Ai3dHy-IqqaH",
    "jp-MarkdownHeadingCollapsed": true
   },
   "source": [
    "# sur 14 jours"
   ]
  },
  {
   "cell_type": "code",
   "execution_count": null,
   "metadata": {
    "cellView": "form",
    "colab": {
     "base_uri": "https://localhost:8080/",
     "height": 0
    },
    "executionInfo": {
     "elapsed": 13,
     "status": "ok",
     "timestamp": 1736416869860,
     "user": {
      "displayName": "Renan Le Blé",
      "userId": "01358649792202031598"
     },
     "user_tz": -60
    },
    "id": "TRwPbHk_Uby0",
    "jupyter": {
     "source_hidden": true
    },
    "outputId": "77e34610-354b-4167-d0f8-9d80275324df"
   },
   "outputs": [],
   "source": [
    "# @title\n",
    "display_30_best_clients_activity_14_days = sorted_activity_europe_50[['full_name.1', 'activity_last_2_week', 'rank_activity_14_days']].sort_values(by=['activity_last_2_week'], ascending=False)\n",
    "display_30_best_clients_activity_14_days = display_30_best_clients_activity_14_days.rename(columns={\n",
    "    'full_name.1' : 'Nom du client',\n",
    "    'activity_last_2_week': 'Nombre de séances sur les 14 derniers jours',\n",
    "    'rank_activity_14_days' : 'Classement en fonction de l\\'activité sur les 14 derniers jours'\n",
    "    })\n",
    "\n",
    "\n",
    "display(display_30_best_clients_activity_14_days.head(30).style.hide(axis='index'))"
   ]
  },
  {
   "cell_type": "code",
   "execution_count": null,
   "metadata": {
    "cellView": "form",
    "colab": {
     "base_uri": "https://localhost:8080/",
     "height": 0
    },
    "executionInfo": {
     "elapsed": 527,
     "status": "ok",
     "timestamp": 1736416870377,
     "user": {
      "displayName": "Renan Le Blé",
      "userId": "01358649792202031598"
     },
     "user_tz": -60
    },
    "id": "qawUG9BtRJZj",
    "jupyter": {
     "source_hidden": true
    },
    "outputId": "c6d718e9-4fab-4a38-da8d-a0da41e0e161"
   },
   "outputs": [],
   "source": [
    "# @title\n",
    "import matplotlib.pyplot as plt\n",
    "plt.figure(figsize=(10, 6))\n",
    "plt.scatter(display_30_best_clients_activity_14_days.head(30)['Nom du client'], display_30_best_clients_activity_14_days.head(30)['Nombre de séances sur les 14 derniers jours'], alpha=0.7)\n",
    "plt.xlabel('Nom du client')\n",
    "plt.ylabel('Nombres de séances par jours')\n",
    "plt.title('Classement des 30 clients européens avec le plus de séances sur les 14 derniers jours')\n",
    "_ = plt.xticks(rotation=90)"
   ]
  },
  {
   "cell_type": "markdown",
   "metadata": {
    "id": "6Xivrru_q0D8",
    "jp-MarkdownHeadingCollapsed": true
   },
   "source": [
    "# sur 30 jours"
   ]
  },
  {
   "cell_type": "code",
   "execution_count": null,
   "metadata": {
    "cellView": "form",
    "colab": {
     "base_uri": "https://localhost:8080/",
     "height": 0
    },
    "executionInfo": {
     "elapsed": 7,
     "status": "ok",
     "timestamp": 1736416870377,
     "user": {
      "displayName": "Renan Le Blé",
      "userId": "01358649792202031598"
     },
     "user_tz": -60
    },
    "id": "Mqgk9j-pUaxe",
    "jupyter": {
     "source_hidden": true
    },
    "outputId": "a5fc6d58-6ab2-45e5-cffe-f071f70fd17d"
   },
   "outputs": [],
   "source": [
    "# @title\n",
    "display_30_best_clients_activity_30_days = sorted_activity_europe_50[['full_name.1', 'activity_last_30_days', 'rank_activity_30_days']].sort_values(by=['activity_last_30_days'], ascending=False)\n",
    "display_30_best_clients_activity_30_days = display_30_best_clients_activity_30_days.rename(columns={\n",
    "    'full_name.1' : 'Nom du client',\n",
    "    'activity_last_30_days': 'Nombre de séances sur les 30 derniers jours',\n",
    "    'rank_activity_30_days' : 'Classement en fonction de l\\'activité sur les 30 derniers jours'\n",
    "    })\n",
    "\n",
    "\n",
    "display(display_30_best_clients_activity_30_days.head(30).style.hide(axis='index'))"
   ]
  },
  {
   "cell_type": "code",
   "execution_count": null,
   "metadata": {
    "cellView": "form",
    "colab": {
     "base_uri": "https://localhost:8080/",
     "height": 0
    },
    "executionInfo": {
     "elapsed": 542,
     "status": "ok",
     "timestamp": 1736416870913,
     "user": {
      "displayName": "Renan Le Blé",
      "userId": "01358649792202031598"
     },
     "user_tz": -60
    },
    "id": "pUsedTKHOR5z",
    "jupyter": {
     "source_hidden": true
    },
    "outputId": "2ec2f8f3-7c1e-4de3-ce9b-591435a9e810"
   },
   "outputs": [],
   "source": [
    "# @title\n",
    "import matplotlib.pyplot as plt\n",
    "plt.figure(figsize=(10, 6))\n",
    "plt.scatter(display_30_best_clients_activity_30_days.head(30)['Nom du client'], display_30_best_clients_activity_30_days.head(30)['Nombre de séances sur les 30 derniers jours'], alpha=0.7)\n",
    "plt.xlabel('Nom du client')\n",
    "plt.ylabel('Nombres de séances par jours')\n",
    "plt.title('Classement des 30 clients européens avec le plus de séances sur les 30 derniers jours')\n",
    "_ = plt.xticks(rotation=90)"
   ]
  },
  {
   "cell_type": "markdown",
   "metadata": {
    "id": "g3arlVLtq5mk",
    "jp-MarkdownHeadingCollapsed": true
   },
   "source": [
    "# sur 90 jours"
   ]
  },
  {
   "cell_type": "code",
   "execution_count": null,
   "metadata": {
    "cellView": "form",
    "colab": {
     "base_uri": "https://localhost:8080/",
     "height": 0
    },
    "executionInfo": {
     "elapsed": 9,
     "status": "ok",
     "timestamp": 1736416870913,
     "user": {
      "displayName": "Renan Le Blé",
      "userId": "01358649792202031598"
     },
     "user_tz": -60
    },
    "id": "Ld497fJjQUmc",
    "jupyter": {
     "source_hidden": true
    },
    "outputId": "ee65766d-0711-4722-da28-3c351edb7040"
   },
   "outputs": [],
   "source": [
    "# @title\n",
    "display_30_best_clients_activity_90_days = sorted_activity_europe_50[['full_name.1', 'activity_last_90_days', 'rank_activity_90_days']].sort_values(by=['activity_last_90_days'], ascending=False)\n",
    "display_30_best_clients_activity_90_days = display_30_best_clients_activity_90_days.rename(columns={\n",
    "    'full_name.1' : 'Nom du client',\n",
    "    'activity_last_90_days': 'Nombre de séances sur les 90 derniers jours',\n",
    "    'rank_activity_90_days' : 'Classement en fonction de l\\'activité sur les 90 derniers jours'\n",
    "    })\n",
    "\n",
    "\n",
    "display(display_30_best_clients_activity_90_days.head(30).style.hide(axis='index'))"
   ]
  },
  {
   "cell_type": "code",
   "execution_count": null,
   "metadata": {
    "cellView": "form",
    "colab": {
     "base_uri": "https://localhost:8080/",
     "height": 0
    },
    "executionInfo": {
     "elapsed": 853,
     "status": "ok",
     "timestamp": 1736416871759,
     "user": {
      "displayName": "Renan Le Blé",
      "userId": "01358649792202031598"
     },
     "user_tz": -60
    },
    "id": "ru_yYrXaQUt8",
    "jupyter": {
     "source_hidden": true
    },
    "outputId": "f26d01b1-01d3-4ca4-f9ae-f71fe88967f6"
   },
   "outputs": [],
   "source": [
    "# @title\n",
    "import matplotlib.pyplot as plt\n",
    "plt.figure(figsize=(10, 6))\n",
    "plt.scatter(display_30_best_clients_activity_90_days.head(30)['Nom du client'], display_30_best_clients_activity_90_days.head(30)['Nombre de séances sur les 90 derniers jours'], alpha=0.7)\n",
    "plt.xlabel('Nom du client')\n",
    "plt.ylabel('Nombres de séances par jours')\n",
    "plt.title('Classement des 30 clients européens avec le plus de séances sur les 90 derniers jours')\n",
    "_ = plt.xticks(rotation=90)"
   ]
  },
  {
   "cell_type": "markdown",
   "metadata": {
    "id": "WW0rpOFuq-U6",
    "jp-MarkdownHeadingCollapsed": true
   },
   "source": [
    "# sur 1 an"
   ]
  },
  {
   "cell_type": "code",
   "execution_count": null,
   "metadata": {
    "cellView": "form",
    "colab": {
     "base_uri": "https://localhost:8080/",
     "height": 0
    },
    "executionInfo": {
     "elapsed": 12,
     "status": "ok",
     "timestamp": 1736416871760,
     "user": {
      "displayName": "Renan Le Blé",
      "userId": "01358649792202031598"
     },
     "user_tz": -60
    },
    "id": "g-XfYxcaQU_0",
    "jupyter": {
     "source_hidden": true
    },
    "outputId": "c856abd4-0aa4-4ecc-da89-ce8d5c5a65aa"
   },
   "outputs": [],
   "source": [
    "# @title\n",
    "display_30_best_clients_activity_year = sorted_activity_europe_50[['full_name.1', 'activity_last_year', 'rank_activity_year']].sort_values(by=['activity_last_year'], ascending=False)\n",
    "display_30_best_clients_activity_year = display_30_best_clients_activity_year.rename(columns={\n",
    "    'full_name.1' : 'Nom du client',\n",
    "    'activity_last_year': 'Nombre de séances sur 1 an',\n",
    "    'rank_activity_year' : 'Classement en fonction de l\\'activité sur 1 an'\n",
    "    })\n",
    "\n",
    "\n",
    "display(display_30_best_clients_activity_year.head(30).style.hide(axis='index'))"
   ]
  },
  {
   "cell_type": "code",
   "execution_count": null,
   "metadata": {
    "cellView": "form",
    "colab": {
     "base_uri": "https://localhost:8080/",
     "height": 0
    },
    "executionInfo": {
     "elapsed": 348,
     "status": "ok",
     "timestamp": 1736416872098,
     "user": {
      "displayName": "Renan Le Blé",
      "userId": "01358649792202031598"
     },
     "user_tz": -60
    },
    "id": "G3ZxGgTBQVH7",
    "jupyter": {
     "source_hidden": true
    },
    "outputId": "2b73b0b1-7ec7-4849-bab5-c252ff6ab320"
   },
   "outputs": [],
   "source": [
    "# @title\n",
    "import matplotlib.pyplot as plt\n",
    "plt.figure(figsize=(10, 6))\n",
    "plt.scatter(display_30_best_clients_activity_year.head(30)['Nom du client'], display_30_best_clients_activity_year.head(30)['Nombre de séances sur 1 an'], alpha=0.7)\n",
    "plt.xlabel('Nom du client')\n",
    "plt.ylabel('Nombres de séances par jours')\n",
    "plt.title('Classement des 30 clients européens avec le plus de séances sur 1 an')\n",
    "_ = plt.xticks(rotation=90)"
   ]
  },
  {
   "cell_type": "markdown",
   "metadata": {
    "id": "U4WSfGchrFDI"
   },
   "source": [
    "# Tests sortie détails d'un client"
   ]
  },
  {
   "cell_type": "code",
   "execution_count": null,
   "metadata": {
    "cellView": "form",
    "colab": {
     "base_uri": "https://localhost:8080/"
    },
    "executionInfo": {
     "elapsed": 309,
     "status": "ok",
     "timestamp": 1736416872403,
     "user": {
      "displayName": "Renan Le Blé",
      "userId": "01358649792202031598"
     },
     "user_tz": -60
    },
    "id": "a3APQnofBNdu",
    "jupyter": {
     "source_hidden": true
    },
    "outputId": "4e762895-da18-492b-e3b5-538fe322b247"
   },
   "outputs": [],
   "source": [
    "# @title\n",
    "# prompt: From the database sorted_activity_europe_50 display the following information:\n",
    "# 1. The current date\n",
    "# 2. The rank_activity_per_day of the full_name.1 called T0613 - Aqua Kiné Santé\n",
    "# 3. The counts of the full_name.1 called T0613 - Aqua Kiné Santé\n",
    "# 4. The activity_per_day of the full_name.1 called T0613 - Aqua Kiné Santé\n",
    "# 5. The first_activity of the full_name.1 called T0613 - Aqua Kiné Santé\n",
    "# 6. The last_activity of the full_name.1 called T0613 - Aqua Kiné Santé\n",
    "# 7. The number_days of the full_name.1 called T0613 - Aqua Kiné Santé\n",
    "# 8. The activity_last_week of the full_name.1 called T0613 - Aqua Kiné Santé\n",
    "# 9. The activity_last_2_week of the full_name.1 called T0613 - Aqua Kiné Santé\n",
    "# 10. The activity_last_30_days of the full_name.1 called T0613 - Aqua Kiné Santé\n",
    "\n",
    "import datetime\n",
    "\n",
    "# Assuming 'sorted_activity_europe_50' DataFrame is already available from the previous code\n",
    "\n",
    "# Filter the DataFrame for the specific full_name.1\n",
    "target_activity = sorted_activity_europe_50[sorted_activity_europe_50['full_name.1'] == 'T0613 - Aqua Kiné Santé']\n",
    "\n",
    "if not target_activity.empty:\n",
    "  current_date = datetime.date.today()\n",
    "  rank = target_activity['rank_activity_per_day_since_acquisition'].iloc[0]\n",
    "  counts = target_activity['counts'].iloc[0]\n",
    "  activity_per_day = target_activity['activity_per_day_since_acquisition'].iloc[0]\n",
    "  first_activity = target_activity['first_activity'].iloc[0]\n",
    "  last_activity = target_activity['last_activity'].iloc[0]\n",
    "  since_asquisition = target_activity['formatted_duration'].iloc[0]\n",
    "  activity_last_week = target_activity['activity_last_week'].iloc[0]\n",
    "  activity_per_day_last_week = target_activity['activity_per_day_7_days'].iloc[0]\n",
    "  rank_last_week = target_activity['rank_activity_7_days'].iloc[0]\n",
    "  activity_last_2_week = target_activity['activity_last_2_week'].iloc[0]\n",
    "  activity_per_day_last_2_week = target_activity['activity_per_day_14_days'].iloc[0]\n",
    "  rank_last_2_week = target_activity['rank_activity_14_days'].iloc[0]\n",
    "  activity_last_30_days = target_activity['activity_last_30_days'].iloc[0]\n",
    "  activity_per_day_last_30_days = target_activity['activity_per_day_30_days'].iloc[0]\n",
    "  rank_last_30_days = target_activity['rank_activity_30_days'].iloc[0]\n",
    "  activity_last_90_days = target_activity['activity_last_90_days'].iloc[0]\n",
    "  activity_per_day_last_90_days = target_activity['activity_per_day_90_days'].iloc[0]\n",
    "  rank_last_90_days = target_activity['rank_activity_90_days'].iloc[0]\n",
    "  activity_last_year = target_activity['activity_last_year'].iloc[0]\n",
    "  activity_per_day_last_year = target_activity['activity_per_day_year'].iloc[0]\n",
    "  rank_last_year = target_activity['rank_activity_year'].iloc[0]\n",
    "\n",
    "  print('\\033[1;4m' + \"Détails pour le client T0613 - Aqua Kiné Santé:\" + '\\033[0m')\n",
    "  print(\"\\n\")\n",
    "  print(f\"Date d\\'aujourd\\'hui: {current_date}\")\n",
    "  print(f\"Date de la première séance: {first_activity}\")\n",
    "  print(f\"Date de la dernière séance: {last_activity}\")\n",
    "  print(f\"Appareil acquis il y a: {since_asquisition}\")\n",
    "  print(\"\\n\")\n",
    "  print('\\033[1;4m' + \"Stats sur les 7 derniers jours\" + '\\033[0m')\n",
    "  print(f\"Nombres de séances: {activity_last_week}\")\n",
    "  print(f\"Nombres de séances par jour: {activity_per_day_last_week}\")\n",
    "  print(f\"Classement: {rank_last_week} \")\n",
    "  print(\"\\n\")\n",
    "  print('\\033[1;4m' + \"Stats sur les 14 derniers jours\" + '\\033[0m')\n",
    "  print(f\"Nombres de séances: {activity_last_2_week}\")\n",
    "  print(f\"Nombres de séances par jour: {activity_per_day_last_2_week}\")\n",
    "  print(f\"Classement: {rank_last_2_week}\")\n",
    "  print(\"\\n\")\n",
    "  print('\\033[1;4m' + \"Stats sur les 30 derniers jours\" + '\\033[0m')\n",
    "  print(f\"Nombres de séances: {activity_last_30_days}\")\n",
    "  print(f\"Nombres de séances par jour: {activity_per_day_last_30_days}\")\n",
    "  print(f\"Classement: {rank_last_30_days}\")\n",
    "  print(\"\\n\")\n",
    "  print('\\033[1;4m' + \"Stats sur les 90 derniers jours\" + '\\033[0m')\n",
    "  print(f\"Nombres de séances: {activity_last_90_days}\")\n",
    "  print(f\"Nombres de séances par jour: {activity_per_day_last_90_days}\")\n",
    "  print(f\"Classement: {rank_last_90_days}\")\n",
    "  print(\"\\n\")\n",
    "  print('\\033[1;4m' + \"Stats sur 1 an\" + '\\033[0m')\n",
    "  print(f\"Nombres de séances: {activity_last_year}\")\n",
    "  print(f\"Nombres de séances par jour: {activity_per_day_last_year}\")\n",
    "  print(f\"Classement: {rank_last_year}\")\n",
    "  print(\"\\n\")\n",
    "  print('\\033[1;4m' + \"Stats depuis l\\'acquisition\" + '\\033[0m')\n",
    "  print(f\"Nombres de séances: {counts}\")\n",
    "  print(f\"Nombres moyen de séances par jour: {activity_per_day}\")\n",
    "  print(f\"Classement: {rank}\")\n",
    "else:\n",
    "  print(\"T0613 - Aqua Kiné Santé not found in the database.\")"
   ]
  },
  {
   "cell_type": "code",
   "execution_count": null,
   "metadata": {
    "cellView": "form",
    "colab": {
     "base_uri": "https://localhost:8080/"
    },
    "executionInfo": {
     "elapsed": 7,
     "status": "ok",
     "timestamp": 1736416872403,
     "user": {
      "displayName": "Renan Le Blé",
      "userId": "01358649792202031598"
     },
     "user_tz": -60
    },
    "id": "-eyHPLyaALsA",
    "jupyter": {
     "source_hidden": true
    },
    "outputId": "8c8073d2-cf2d-41d7-f0eb-619caac1ac2a"
   },
   "outputs": [],
   "source": [
    "# @title\n",
    "# Filter the DataFrame for the specific full_name.1\n",
    "target_activity = sorted_activity_europe_50[sorted_activity_europe_50['full_name.1'] == 'T0100 - Franck ARCHIMBAUD']\n",
    "\n",
    "if not target_activity.empty:\n",
    "  current_date = datetime.date.today()\n",
    "  rank = target_activity['rank_activity_per_day_since_acquisition'].iloc[0]\n",
    "  counts = target_activity['counts'].iloc[0]\n",
    "  activity_per_day = target_activity['activity_per_day_since_acquisition'].iloc[0]\n",
    "  first_activity = target_activity['first_activity'].iloc[0]\n",
    "  last_activity = target_activity['last_activity'].iloc[0]\n",
    "  since_asquisition = target_activity['formatted_duration'].iloc[0]\n",
    "  activity_last_week = target_activity['activity_last_week'].iloc[0]\n",
    "  activity_per_day_last_week = target_activity['activity_per_day_7_days'].iloc[0]\n",
    "  rank_last_week = target_activity['rank_activity_7_days'].iloc[0]\n",
    "  activity_last_2_week = target_activity['activity_last_2_week'].iloc[0]\n",
    "  activity_per_day_last_2_week = target_activity['activity_per_day_14_days'].iloc[0]\n",
    "  rank_last_2_week = target_activity['rank_activity_14_days'].iloc[0]\n",
    "  activity_last_30_days = target_activity['activity_last_30_days'].iloc[0]\n",
    "  activity_per_day_last_30_days = target_activity['activity_per_day_30_days'].iloc[0]\n",
    "  rank_last_30_days = target_activity['rank_activity_30_days'].iloc[0]\n",
    "  activity_last_90_days = target_activity['activity_last_90_days'].iloc[0]\n",
    "  activity_per_day_last_90_days = target_activity['activity_per_day_90_days'].iloc[0]\n",
    "  rank_last_90_days = target_activity['rank_activity_90_days'].iloc[0]\n",
    "  activity_last_year = target_activity['activity_last_year'].iloc[0]\n",
    "  activity_per_day_last_year = target_activity['activity_per_day_year'].iloc[0]\n",
    "  rank_last_year = target_activity['rank_activity_year'].iloc[0]\n",
    "\n",
    "  print('\\033[1;4m' + \"Détails pour le client T0100 - Franck ARCHIMBAUD:\" + '\\033[0m')\n",
    "  print(\"\\n\")\n",
    "  print(f\"Date d\\'aujourd\\'hui: {current_date}\")\n",
    "  print(f\"Date de la première séance: {first_activity}\")\n",
    "  print(f\"Date de la dernière séance: {last_activity}\")\n",
    "  print(f\"Appareil acquis il y a: {since_asquisition}\")\n",
    "  print(\"\\n\")\n",
    "  print('\\033[1;4m' + \"Stats sur les 7 derniers jours\" + '\\033[0m')\n",
    "  print(f\"Nombres de séances: {activity_last_week}\")\n",
    "  print(f\"Nombres de séances par jour: {activity_per_day_last_week}\")\n",
    "  print(f\"Classement: {rank_last_week} \")\n",
    "  print(\"\\n\")\n",
    "  print('\\033[1;4m' + \"Stats sur les 14 derniers jours\" + '\\033[0m')\n",
    "  print(f\"Nombres de séances: {activity_last_2_week}\")\n",
    "  print(f\"Nombres de séances par jour: {activity_per_day_last_2_week}\")\n",
    "  print(f\"Classement: {rank_last_2_week}\")\n",
    "  print(\"\\n\")\n",
    "  print('\\033[1;4m' + \"Stats sur les 30 derniers jours\" + '\\033[0m')\n",
    "  print(f\"Nombres de séances: {activity_last_30_days}\")\n",
    "  print(f\"Nombres de séances par jour: {activity_per_day_last_30_days}\")\n",
    "  print(f\"Classement: {rank_last_30_days}\")\n",
    "  print(\"\\n\")\n",
    "  print('\\033[1;4m' + \"Stats sur les 90 derniers jours\" + '\\033[0m')\n",
    "  print(f\"Nombres de séances: {activity_last_90_days}\")\n",
    "  print(f\"Nombres de séances par jour: {activity_per_day_last_90_days}\")\n",
    "  print(f\"Classement: {rank_last_90_days}\")\n",
    "  print(\"\\n\")\n",
    "  print('\\033[1;4m' + \"Stats sur 1 an\" + '\\033[0m')\n",
    "  print(f\"Nombres de séances: {activity_last_year}\")\n",
    "  print(f\"Nombres de séances par jour: {activity_per_day_last_year}\")\n",
    "  print(f\"Classement: {rank_last_year}\")\n",
    "  print(\"\\n\")\n",
    "  print('\\033[1;4m' + \"Stats depuis l\\'acquisition\" + '\\033[0m')\n",
    "  print(f\"Nombres de séances: {counts}\")\n",
    "  print(f\"Nombres moyen de séances par jour: {activity_per_day}\")\n",
    "  print(f\"Classement: {rank}\")\n",
    "else:\n",
    "  print(\"T0613 - Aqua Kiné Santé not found in the database.\")"
   ]
  },
  {
   "cell_type": "code",
   "execution_count": null,
   "metadata": {
    "jupyter": {
     "source_hidden": true
    }
   },
   "outputs": [],
   "source": [
    "# @title\n",
    "# Filter the DataFrame for the specific full_name.1\n",
    "target_activity = sorted_activity_europe_50[sorted_activity_europe_50['full_name.1'] == 'T1680 - Laure GIULIANI']\n",
    "\n",
    "if not target_activity.empty:\n",
    "  current_date = datetime.date.today()\n",
    "  rank = target_activity['rank_activity_per_day_since_acquisition'].iloc[0]\n",
    "  counts = target_activity['counts'].iloc[0]\n",
    "  activity_per_day = target_activity['activity_per_day_since_acquisition'].iloc[0]\n",
    "  first_activity = target_activity['first_activity'].iloc[0]\n",
    "  last_activity = target_activity['last_activity'].iloc[0]\n",
    "  since_asquisition = target_activity['formatted_duration'].iloc[0]\n",
    "  activity_last_week = target_activity['activity_last_week'].iloc[0]\n",
    "  activity_per_day_last_week = target_activity['activity_per_day_7_days'].iloc[0]\n",
    "  rank_last_week = target_activity['rank_activity_7_days'].iloc[0]\n",
    "  activity_last_2_week = target_activity['activity_last_2_week'].iloc[0]\n",
    "  activity_per_day_last_2_week = target_activity['activity_per_day_14_days'].iloc[0]\n",
    "  rank_last_2_week = target_activity['rank_activity_14_days'].iloc[0]\n",
    "  activity_last_30_days = target_activity['activity_last_30_days'].iloc[0]\n",
    "  activity_per_day_last_30_days = target_activity['activity_per_day_30_days'].iloc[0]\n",
    "  rank_last_30_days = target_activity['rank_activity_30_days'].iloc[0]\n",
    "  activity_last_90_days = target_activity['activity_last_90_days'].iloc[0]\n",
    "  activity_per_day_last_90_days = target_activity['activity_per_day_90_days'].iloc[0]\n",
    "  rank_last_90_days = target_activity['rank_activity_90_days'].iloc[0]\n",
    "  activity_last_year = target_activity['activity_last_year'].iloc[0]\n",
    "  activity_per_day_last_year = target_activity['activity_per_day_year'].iloc[0]\n",
    "  rank_last_year = target_activity['rank_activity_year'].iloc[0]\n",
    "\n",
    "  print('\\033[1;4m' + \"Détails pour le client T1680 - Laure GIULIANI:\" + '\\033[0m')\n",
    "  print(\"\\n\")\n",
    "  print(f\"Date d\\'aujourd\\'hui: {current_date}\")\n",
    "  print(f\"Date de la première séance: {first_activity}\")\n",
    "  print(f\"Date de la dernière séance: {last_activity}\")\n",
    "  print(f\"Appareil acquis il y a: {since_asquisition}\")\n",
    "  print(\"\\n\")\n",
    "  print('\\033[1;4m' + \"Stats sur les 7 derniers jours\" + '\\033[0m')\n",
    "  print(f\"Nombres de séances: {activity_last_week}\")\n",
    "  print(f\"Nombres de séances par jour: {activity_per_day_last_week}\")\n",
    "  print(f\"Classement: {rank_last_week} \")\n",
    "  print(\"\\n\")\n",
    "  print('\\033[1;4m' + \"Stats sur les 14 derniers jours\" + '\\033[0m')\n",
    "  print(f\"Nombres de séances: {activity_last_2_week}\")\n",
    "  print(f\"Nombres de séances par jour: {activity_per_day_last_2_week}\")\n",
    "  print(f\"Classement: {rank_last_2_week}\")\n",
    "  print(\"\\n\")\n",
    "  print('\\033[1;4m' + \"Stats sur les 30 derniers jours\" + '\\033[0m')\n",
    "  print(f\"Nombres de séances: {activity_last_30_days}\")\n",
    "  print(f\"Nombres de séances par jour: {activity_per_day_last_30_days}\")\n",
    "  print(f\"Classement: {rank_last_30_days}\")\n",
    "  print(\"\\n\")\n",
    "  print('\\033[1;4m' + \"Stats sur les 90 derniers jours\" + '\\033[0m')\n",
    "  print(f\"Nombres de séances: {activity_last_90_days}\")\n",
    "  print(f\"Nombres de séances par jour: {activity_per_day_last_90_days}\")\n",
    "  print(f\"Classement: {rank_last_90_days}\")\n",
    "  print(\"\\n\")\n",
    "  print('\\033[1;4m' + \"Stats sur 1 an\" + '\\033[0m')\n",
    "  print(f\"Nombres de séances: {activity_last_year}\")\n",
    "  print(f\"Nombres de séances par jour: {activity_per_day_last_year}\")\n",
    "  print(f\"Classement: {rank_last_year}\")\n",
    "  print(\"\\n\")\n",
    "  print('\\033[1;4m' + \"Stats depuis l\\'acquisition\" + '\\033[0m')\n",
    "  print(f\"Nombres de séances: {counts}\")\n",
    "  print(f\"Nombres moyen de séances par jour: {activity_per_day}\")\n",
    "  print(f\"Classement: {rank}\")\n",
    "else:\n",
    "  print(\"T1680 - Laure GIULIANI not found in the database.\")"
   ]
  },
  {
   "cell_type": "code",
   "execution_count": null,
   "metadata": {},
   "outputs": [],
   "source": []
  }
 ],
 "metadata": {
  "colab": {
   "authorship_tag": "ABX9TyMJHZJm69jGCeIs7PU/zA1p",
   "collapsed_sections": [
    "J4YG5ICUrWBI",
    "kuApR1xaG8AD",
    "HjGFqB7QHCMF",
    "Ey8ztVJLHHtn",
    "dSZVbAHKHMbe",
    "5npjqWckHPdk",
    "z7vrgV6dph13",
    "iRfTIODFp4qt",
    "aPNy7SBpp9jI",
    "QHr2ubxSqDD6",
    "RX5CMjSNqQd9",
    "cxdstFG4qkqN",
    "Ai3dHy-IqqaH",
    "6Xivrru_q0D8",
    "g3arlVLtq5mk",
    "WW0rpOFuq-U6",
    "U4WSfGchrFDI"
   ],
   "provenance": []
  },
  "kernelspec": {
   "display_name": "Python 3 (ipykernel)",
   "language": "python",
   "name": "python3"
  },
  "language_info": {
   "codemirror_mode": {
    "name": "ipython",
    "version": 3
   },
   "file_extension": ".py",
   "mimetype": "text/x-python",
   "name": "python",
   "nbconvert_exporter": "python",
   "pygments_lexer": "ipython3",
   "version": "3.10.2"
  }
 },
 "nbformat": 4,
 "nbformat_minor": 4
}
